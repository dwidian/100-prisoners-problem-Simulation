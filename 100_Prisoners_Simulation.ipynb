{
 "cells": [
  {
   "cell_type": "code",
   "execution_count": 1,
   "id": "e1b64a8d",
   "metadata": {},
   "outputs": [],
   "source": [
    "import random"
   ]
  },
  {
   "cell_type": "code",
   "execution_count": 157,
   "id": "dbc4abc3",
   "metadata": {},
   "outputs": [],
   "source": [
    "def simulate(prisoners, simulation, debug) :\n",
    "    \n",
    "    prison_number = [x for x in range(prisoners)]\n",
    "    sim_OK = 0\n",
    "    everyone_die = False    \n",
    "        \n",
    "    for sim in range (simulation) :\n",
    "        random.shuffle(prison_number)\n",
    "        if debug :\n",
    "            print(prison_number)\n",
    "        for prison in range(prisoners):\n",
    "            toCheck = prison\n",
    "            founded = False\n",
    "\n",
    "            if debug :\n",
    "                print(\"== Finding for {} ==\".format(prison))\n",
    "            for i in range(int(prisoners/2)):\n",
    "                if debug :\n",
    "                    print(\"Checking {} Founded {} \".format(toCheck,prison_number[toCheck]))\n",
    "                if prison_number[toCheck] == prison :\n",
    "                    founded = True\n",
    "                    if debug :\n",
    "                        print(\"Founded\")    \n",
    "                    break\n",
    "                else :\n",
    "                    toCheck = prison_number[toCheck]\n",
    "\n",
    "            if founded is not True:\n",
    "                if debug: \n",
    "                    print(\"Everyone Die!\")\n",
    "                everyone_die = True\n",
    "                break\n",
    "        \n",
    "        if everyone_die :\n",
    "            everyone_die = False\n",
    "        else :\n",
    "            sim_OK += 1\n",
    "       \n",
    "    print(\"Success Rate : {} %\".format((sim_OK/simulation * 100)))\n",
    "        "
   ]
  },
  {
   "cell_type": "code",
   "execution_count": 158,
   "id": "7365e57c",
   "metadata": {},
   "outputs": [
    {
     "name": "stdout",
     "output_type": "stream",
     "text": [
      "Success Rate : 30.4 %\n"
     ]
    }
   ],
   "source": [
    "simulate(100,1000,False)"
   ]
  },
  {
   "cell_type": "code",
   "execution_count": null,
   "id": "5e8759a2",
   "metadata": {},
   "outputs": [],
   "source": []
  }
 ],
 "metadata": {
  "kernelspec": {
   "display_name": "Python [conda env:crypto]",
   "language": "python",
   "name": "conda-env-crypto-py"
  },
  "language_info": {
   "codemirror_mode": {
    "name": "ipython",
    "version": 3
   },
   "file_extension": ".py",
   "mimetype": "text/x-python",
   "name": "python",
   "nbconvert_exporter": "python",
   "pygments_lexer": "ipython3",
   "version": "3.9.12"
  }
 },
 "nbformat": 4,
 "nbformat_minor": 5
}
